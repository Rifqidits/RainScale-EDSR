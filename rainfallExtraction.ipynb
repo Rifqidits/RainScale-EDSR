{
 "cells": [
  {
   "cell_type": "code",
   "execution_count": 8,
   "id": "ccf2ac17",
   "metadata": {},
   "outputs": [],
   "source": [
    "from pathlib import Path\n",
    "import xarray as xr\n",
    "import pandas as pd\n",
    "\n",
    "pathNow = Path().parent.absolute().parent\n",
    "mswep_dir = pathNow / \"Datasets\" / \"Ina_MSWEP\"\n",
    "gcm_dir   = pathNow / \"Datasets\" / \"Ina_NEX-GDDP-CMIP6-Mahasiswa\" / \"Adit\"\n",
    "\n",
    "def extract_precip_mswep(start_date, end_date, lat_target, lon_target, output_excel):\n",
    "    dfs = []\n",
    "\n",
    "    for year in range(pd.to_datetime(start_date).year, pd.to_datetime(end_date).year + 1):\n",
    "        file = mswep_dir / f\"merged_daily_{year}.nc\"\n",
    "        ds = xr.open_dataset(file)\n",
    "\n",
    "        # 1. Slice waktu\n",
    "        ds_time = ds.sel(time=slice(start_date, end_date))\n",
    "\n",
    "        # 2. Ambil lat lon dengan method=\"nearest\"\n",
    "        ds_sel = ds_time.sel(lat=lat_target, lon=lon_target, method=\"nearest\")\n",
    "\n",
    "        df = ds_sel[\"precipitation\"].to_dataframe().reset_index()\n",
    "        df = df[[\"time\", \"precipitation\"]]\n",
    "        df.columns = [\"date\", \"rr\"]\n",
    "        dfs.append(df)\n",
    "\n",
    "    df_all = pd.concat(dfs)\n",
    "    df_all.to_excel(output_excel, index=False)\n",
    "\n",
    "def extract_precip_gcm(start_date, end_date, lat_target, lon_target, output_excel):\n",
    "    dfs = []\n",
    "\n",
    "    for year in range(pd.to_datetime(start_date).year, pd.to_datetime(end_date).year + 1):\n",
    "        file = gcm_dir / f\"ina_EC-Earth3_ssp245_{year}_pr.nc\"\n",
    "        ds = xr.open_dataset(file)\n",
    "\n",
    "        ds_time = ds.sel(time=slice(start_date, end_date))\n",
    "        ds_sel  = ds_time.sel(lat=lat_target, lon=lon_target, method=\"nearest\")\n",
    "\n",
    "        pr_mm_day = ds_sel[\"pr\"] * 86400\n",
    "\n",
    "        df = pr_mm_day.to_dataframe().reset_index()\n",
    "        df = df[[\"time\", \"pr\"]]\n",
    "        df.columns = [\"date\", \"rr\"]\n",
    "        dfs.append(df)\n",
    "\n",
    "    df_all = pd.concat(dfs)\n",
    "    df_all.to_excel(output_excel, index=False)"
   ]
  },
  {
   "cell_type": "code",
   "execution_count": 9,
   "id": "c427b70f",
   "metadata": {},
   "outputs": [],
   "source": [
    "extract_precip_mswep(\n",
    "    start_date=\"2015-01-01\",\n",
    "    end_date=\"2024-12-31\",\n",
    "    lat_target=-6.121074,\n",
    "    lon_target=106.838433,\n",
    "    output_excel=\"MSWEP_2015-2024.xlsx\"\n",
    ")\n",
    "\n",
    "extract_precip_gcm(\n",
    "    start_date=\"2015-01-01\",\n",
    "    end_date=\"2024-12-31\",\n",
    "    lat_target=-6.121074,\n",
    "    lon_target=106.838433,\n",
    "    output_excel=\"GCM_2015-2024.xlsx\"\n",
    ")\n"
   ]
  },
  {
   "cell_type": "markdown",
   "id": "9ca3a667",
   "metadata": {},
   "source": [
    "## Akulumasi RR dalam satu hari di STA2172"
   ]
  },
  {
   "cell_type": "code",
   "execution_count": 8,
   "id": "53d78caa",
   "metadata": {},
   "outputs": [],
   "source": [
    "def sum_daily_rr(filename, target_date):\n",
    "    df = pd.read_excel(filename)\n",
    "    \n",
    "    # Pastikan kolom date dalam datetime\n",
    "    df['Date'] = pd.to_datetime(df['Date'])\n",
    "\n",
    "    # Filter hanya tanggal target\n",
    "    df = df[df['Date'].dt.date == pd.to_datetime(target_date).date()]\n",
    "    \n",
    "    # Ambil setiap 10 menit saja (karena nilainya sama)\n",
    "    df_sampled = df.set_index('Date').resample('10T').first().dropna().reset_index()\n",
    "    \n",
    "    # Total RR hari itu\n",
    "    total_rr = df_sampled['rr'].sum()\n",
    "    \n",
    "    return total_rr"
   ]
  },
  {
   "cell_type": "code",
   "execution_count": 15,
   "id": "3da3f9da",
   "metadata": {},
   "outputs": [
    {
     "name": "stdout",
     "output_type": "stream",
     "text": [
      "Total RR pada 2024-12-23 adalah 894.80 mm\n"
     ]
    },
    {
     "name": "stderr",
     "output_type": "stream",
     "text": [
      "C:\\Users\\rifqi\\AppData\\Local\\Temp\\ipykernel_27544\\840649267.py:11: FutureWarning: 'T' is deprecated and will be removed in a future version, please use 'min' instead.\n",
      "  df_sampled = df.set_index('Date').resample('10T').first().dropna().reset_index()\n"
     ]
    }
   ],
   "source": [
    "# Ganti nama file dan tanggal sesuai kebutuhan\n",
    "filename = \"STA2172_2023-2024.xlsx\"\n",
    "tanggal = \"2024-12-23\"\n",
    "\n",
    "total_hujan = sum_daily_rr(filename, tanggal)\n",
    "print(f\"Total RR pada {tanggal} adalah {total_hujan:.2f} mm\")"
   ]
  },
  {
   "cell_type": "code",
   "execution_count": null,
   "id": "f9b5d371",
   "metadata": {},
   "outputs": [],
   "source": []
  }
 ],
 "metadata": {
  "kernelspec": {
   "display_name": "base",
   "language": "python",
   "name": "python3"
  },
  "language_info": {
   "codemirror_mode": {
    "name": "ipython",
    "version": 3
   },
   "file_extension": ".py",
   "mimetype": "text/x-python",
   "name": "python",
   "nbconvert_exporter": "python",
   "pygments_lexer": "ipython3",
   "version": "3.12.7"
  }
 },
 "nbformat": 4,
 "nbformat_minor": 5
}
